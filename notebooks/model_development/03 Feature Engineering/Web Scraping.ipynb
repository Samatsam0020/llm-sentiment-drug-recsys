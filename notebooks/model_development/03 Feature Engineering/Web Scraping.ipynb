{
 "cells": [
  {
   "cell_type": "code",
   "execution_count": 1,
   "id": "a42a8088-f4aa-4199-a4eb-f92cc7391cf0",
   "metadata": {},
   "outputs": [],
   "source": [
    "import pandas as pd\n",
    "from dotenv import load_dotenv\n",
    "from langchain_groq import ChatGroq\n",
    "import os\n",
    "import re\n",
    "import requests\n",
    "from bs4 import BeautifulSoup\n",
    "from tqdm import tqdm\n",
    "\n",
    "\n",
    "tqdm.pandas()\n",
    "test_data = pd.read_csv('drugsComTest_raw.tsv',sep = '\\t')\n",
    "train_data = pd.read_csv('drugsComTrain_raw.tsv',sep = '\\t')\n",
    "df_total = pd.concat([train_data, test_data], axis=0)\n",
    "def drug_info(drug_name):\n",
    "    # URL de la page de recherche de Drugs.com\n",
    "    search_url = f\"https://www.drugs.com/search.php?searchterm={drug_name.replace(' ', '+')}\"\n",
    "    \n",
    "    # Effectuer la requête de recherche\n",
    "    try:\n",
    "        response = requests.get(search_url)\n",
    "        response.raise_for_status()\n",
    "    except requests.RequestException as e:\n",
    "        print(f\"Erreur lors de la requête de recherche : {e}\")\n",
    "        return None\n",
    "    \n",
    "    soup = BeautifulSoup(response.text, \"html.parser\")\n",
    "\n",
    "    # Rechercher le premier lien\n",
    "    first_link_tag = soup.select_one(\"div.ddc-media-content a.ddc-search-result-link-wrap\")\n",
    "    \n",
    "    if first_link_tag and first_link_tag['href']:\n",
    "        first_link = first_link_tag['href']\n",
    "        \n",
    "        # S'assurer que l'URL est absolue\n",
    "        if not first_link.startswith(\"http\"):\n",
    "            first_link = \"https://www.drugs.com\" + first_link\n",
    "        \n",
    "        try:\n",
    "            # Obtenir le contenu de la première page trouvée\n",
    "            response = requests.get(first_link)\n",
    "            response.raise_for_status()\n",
    "        except requests.RequestException as e:\n",
    "            print(f\"Erreur lors de la requête de la page du médicament : {e}\")\n",
    "            return None\n",
    "        \n",
    "        drug_page = BeautifulSoup(response.text, \"html.parser\")\n",
    "        \n",
    "        # Extraire des informations supplémentaires si nécessaire\n",
    "        drug_info = drug_page.get_text()\n",
    "        return drug_info\n",
    "    else:\n",
    "        print(\"Aucun lien trouvé pour ce médicament.\")\n",
    "        return None"
   ]
  }
 ],
 "metadata": {
  "kernelspec": {
   "display_name": "Python 3 (ipykernel)",
   "language": "python",
   "name": "python3"
  },
  "language_info": {
   "codemirror_mode": {
    "name": "ipython",
    "version": 3
   },
   "file_extension": ".py",
   "mimetype": "text/x-python",
   "name": "python",
   "nbconvert_exporter": "python",
   "pygments_lexer": "ipython3",
   "version": "3.12.3"
  }
 },
 "nbformat": 4,
 "nbformat_minor": 5
}
